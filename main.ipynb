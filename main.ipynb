{
 "cells": [
  {
   "cell_type": "markdown",
   "metadata": {},
   "source": [
    "# AI Housing Price Predictions\n",
    "### A comparison of the efficacy of multiple artificial intelligence models in the task of predicting housing price from multiple variables\n",
    "\n",
    "This lab will walk through how each model is set up and optimized. Metrics for each model will be compared in order to determine which model(s) would be most beneficial in a practical environment. The purpose of this lab is **not** to create a pseudo-state-of-the-art model which can predict prices with great accuracy, but rather to gain insight into which models have the most potential to perform this task. "
   ]
  },
  {
   "cell_type": "code",
   "execution_count": null,
   "metadata": {},
   "outputs": [],
   "source": [
    "# Import needed libraries\n",
    "import numpy as np\n",
    "import pandas as pd\n",
    "\n",
    "# Import models from sklearn\n",
    "from sklearn.tree import DecisionTreeClassifier\n",
    "from sklearn.decomposition import PCA\n",
    "from sklearn.svm import SVC\n",
    "from sklearn.cluster import KMeans\n",
    "\n",
    "# Import functions from other modules\n",
    "from data_processing import preprocess, normalize\n",
    "from plot_helpers import *"
   ]
  }
 ],
 "metadata": {
  "kernelspec": {
   "display_name": "Python 3.10.8 ('CAIenv')",
   "language": "python",
   "name": "python3"
  },
  "language_info": {
   "name": "python",
   "version": "3.10.8"
  },
  "orig_nbformat": 4,
  "vscode": {
   "interpreter": {
    "hash": "32fbd14aac4490d0fca7bc4c18c69c9cf43c909c3a0fcb2a6a86701a3bd81ba3"
   }
  }
 },
 "nbformat": 4,
 "nbformat_minor": 2
}
